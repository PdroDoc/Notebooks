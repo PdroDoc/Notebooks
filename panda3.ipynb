{
 "cells": [
  {
   "cell_type": "code",
   "execution_count": 3,
   "id": "3c25bad3",
   "metadata": {},
   "outputs": [
    {
     "name": "stdout",
     "output_type": "stream",
     "text": [
      "Index(['Activity Type', 'Date', 'Favorite', 'Title', 'Distance', 'Calories',\n",
      "       'Time', 'Avg HR', 'Max HR', 'Aerobic TE', 'Avg Run Cadence',\n",
      "       'Max Run Cadence', 'Avg Pace', 'Best Pace', 'Avg Stride Length',\n",
      "       'Avg Vertical Ratio', 'Avg Vertical Oscillation',\n",
      "       'Avg Ground Contact Time', 'Normalized Power® (NP®)',\n",
      "       'Training Stress Score®', 'Avg Power', 'Max Power', 'Steps',\n",
      "       'Total Reps', 'Total Sets', 'Min Temp', 'Decompression',\n",
      "       'Best Lap Time', 'Number of Laps', 'Max Temp', 'Avg Resp', 'Min Resp',\n",
      "       'Max Resp', 'Stress Change', 'Stress Start', 'Stress End', 'Avg Stress',\n",
      "       'Max Stress', 'Moving Time', 'Elapsed Time'],\n",
      "      dtype='object')\n"
     ]
    }
   ],
   "source": [
    "import pandas as pd\n",
    "\n",
    "df = pd.read_csv ('Activities.csv')\n",
    "print(df.columns)\n"
   ]
  },
  {
   "cell_type": "code",
   "execution_count": 4,
   "id": "755f06df",
   "metadata": {},
   "outputs": [
    {
     "name": "stdout",
     "output_type": "stream",
     "text": [
      "                   Date Distance        Time  Avg HR\n",
      "0   2025-05-06 18:21:58     1.35    00:12:47     156\n",
      "1   2025-05-06 17:48:49     0.00    00:32:04     137\n",
      "2   2025-05-06 17:12:46     3.20    00:30:01     151\n",
      "3   2025-05-06 05:12:19       --  00:05:00.7      77\n",
      "4   2025-05-05 16:18:02     6.97    01:13:11     150\n",
      "5   2025-05-05 06:48:41       --  00:05:00.1      75\n",
      "6   2025-05-05 06:43:26       --  00:05:00.1      77\n",
      "7   2025-05-05 06:38:12       --  00:05:00.1      76\n",
      "8   2025-05-05 06:28:00       --    00:10:00      79\n",
      "9   2025-05-05 06:22:44       --  00:05:00.1      78\n",
      "10  2025-05-05 06:15:34       --  00:05:00.1      78\n",
      "11  2025-05-05 06:05:13       --    00:10:00      78\n",
      "12  2025-05-05 05:59:38       --  00:05:00.8      77\n",
      "13  2025-05-04 13:17:37       --  00:03:00.1      94\n",
      "14  2025-05-04 13:14:26       --  00:03:00.1      93\n",
      "15  2025-05-04 04:47:44       --  00:05:08.0      65\n",
      "16  2025-05-02 17:50:17       --  00:05:00.1      83\n",
      "17  2025-05-02 16:38:17       --  00:05:00.1      81\n",
      "18  2025-05-02 16:04:42       --  00:05:00.1      74\n",
      "19  2025-05-02 15:59:27       --  00:05:00.1      71\n"
     ]
    }
   ],
   "source": [
    "import pandas as pd\n",
    "\n",
    "df = pd.read_csv ('Activities.csv')\n",
    "print(df[['Date' , 'Distance' ,'Time','Avg HR']])\n",
    "\n",
    "\n"
   ]
  },
  {
   "cell_type": "code",
   "execution_count": 6,
   "id": "22393c08",
   "metadata": {},
   "outputs": [
    {
     "name": "stdout",
     "output_type": "stream",
     "text": [
      "Activity Type                 Treadmill Running\n",
      "Date                        2025-05-06 17:12:46\n",
      "Favorite                                  False\n",
      "Title                         Treadmill Running\n",
      "Distance                                   3.20\n",
      "Calories                                    262\n",
      "Time                                   00:30:01\n",
      "Avg HR                                      151\n",
      "Max HR                                      177\n",
      "Aerobic TE                                  3.5\n",
      "Avg Run Cadence                             130\n",
      "Max Run Cadence                             190\n",
      "Avg Pace                                   9:22\n",
      "Best Pace                                  5:33\n",
      "Avg Stride Length                          0.89\n",
      "Avg Vertical Ratio                          8.7\n",
      "Avg Vertical Oscillation                    7.4\n",
      "Avg Ground Contact Time                     269\n",
      "Normalized Power® (NP®)                     157\n",
      "Training Stress Score®                      0.0\n",
      "Avg Power                                   118\n",
      "Max Power                                   208\n",
      "Steps                                     4,088\n",
      "Total Reps                                   --\n",
      "Total Sets                                   --\n",
      "Min Temp                                     --\n",
      "Decompression                                No\n",
      "Best Lap Time                        00:00:27.3\n",
      "Number of Laps                                5\n",
      "Max Temp                                     --\n",
      "Avg Resp                                     --\n",
      "Min Resp                                     --\n",
      "Max Resp                                     --\n",
      "Stress Change                                --\n",
      "Stress Start                                 --\n",
      "Stress End                                   --\n",
      "Avg Stress                                   --\n",
      "Max Stress                                   --\n",
      "Moving Time                            00:26:18\n",
      "Elapsed Time                           00:30:01\n",
      "Name: 2, dtype: object\n"
     ]
    }
   ],
   "source": [
    "import pandas as pd\n",
    "\n",
    "df = pd.read_csv ('Activities.csv')\n",
    "print(df.iloc[2])\n"
   ]
  },
  {
   "cell_type": "code",
   "execution_count": 9,
   "id": "73eef3f1",
   "metadata": {},
   "outputs": [
    {
     "name": "stdout",
     "output_type": "stream",
     "text": [
      "False\n"
     ]
    }
   ],
   "source": [
    "import pandas as pd\n",
    "\n",
    "\n",
    "df = pd.read_csv ('Activities.csv')\n",
    "\n",
    "## Read a especific location (R,C)\n",
    "print(df.iloc[3,2])\n"
   ]
  },
  {
   "cell_type": "code",
   "execution_count": 14,
   "id": "80f9112d",
   "metadata": {},
   "outputs": [
    {
     "data": {
      "text/html": [
       "<div>\n",
       "<style scoped>\n",
       "    .dataframe tbody tr th:only-of-type {\n",
       "        vertical-align: middle;\n",
       "    }\n",
       "\n",
       "    .dataframe tbody tr th {\n",
       "        vertical-align: top;\n",
       "    }\n",
       "\n",
       "    .dataframe thead th {\n",
       "        text-align: right;\n",
       "    }\n",
       "</style>\n",
       "<table border=\"1\" class=\"dataframe\">\n",
       "  <thead>\n",
       "    <tr style=\"text-align: right;\">\n",
       "      <th></th>\n",
       "      <th>Activity Type</th>\n",
       "      <th>Date</th>\n",
       "      <th>Favorite</th>\n",
       "      <th>Title</th>\n",
       "      <th>Distance</th>\n",
       "      <th>Calories</th>\n",
       "      <th>Time</th>\n",
       "      <th>Avg HR</th>\n",
       "      <th>Max HR</th>\n",
       "      <th>Aerobic TE</th>\n",
       "      <th>...</th>\n",
       "      <th>Avg Resp</th>\n",
       "      <th>Min Resp</th>\n",
       "      <th>Max Resp</th>\n",
       "      <th>Stress Change</th>\n",
       "      <th>Stress Start</th>\n",
       "      <th>Stress End</th>\n",
       "      <th>Avg Stress</th>\n",
       "      <th>Max Stress</th>\n",
       "      <th>Moving Time</th>\n",
       "      <th>Elapsed Time</th>\n",
       "    </tr>\n",
       "  </thead>\n",
       "  <tbody>\n",
       "    <tr>\n",
       "      <th>2</th>\n",
       "      <td>Treadmill Running</td>\n",
       "      <td>2025-05-06 17:12:46</td>\n",
       "      <td>False</td>\n",
       "      <td>Treadmill Running</td>\n",
       "      <td>3.20</td>\n",
       "      <td>262</td>\n",
       "      <td>00:30:01</td>\n",
       "      <td>151</td>\n",
       "      <td>177</td>\n",
       "      <td>3.5</td>\n",
       "      <td>...</td>\n",
       "      <td>--</td>\n",
       "      <td>--</td>\n",
       "      <td>--</td>\n",
       "      <td>--</td>\n",
       "      <td>--</td>\n",
       "      <td>--</td>\n",
       "      <td>--</td>\n",
       "      <td>--</td>\n",
       "      <td>00:26:18</td>\n",
       "      <td>00:30:01</td>\n",
       "    </tr>\n",
       "    <tr>\n",
       "      <th>4</th>\n",
       "      <td>Treadmill Running</td>\n",
       "      <td>2025-05-05 16:18:02</td>\n",
       "      <td>False</td>\n",
       "      <td>Treadmill Running</td>\n",
       "      <td>6.97</td>\n",
       "      <td>584</td>\n",
       "      <td>01:13:11</td>\n",
       "      <td>150</td>\n",
       "      <td>182</td>\n",
       "      <td>4.1</td>\n",
       "      <td>...</td>\n",
       "      <td>--</td>\n",
       "      <td>--</td>\n",
       "      <td>--</td>\n",
       "      <td>--</td>\n",
       "      <td>--</td>\n",
       "      <td>--</td>\n",
       "      <td>--</td>\n",
       "      <td>--</td>\n",
       "      <td>00:58:19</td>\n",
       "      <td>01:16:08</td>\n",
       "    </tr>\n",
       "  </tbody>\n",
       "</table>\n",
       "<p>2 rows × 40 columns</p>\n",
       "</div>"
      ],
      "text/plain": [
       "       Activity Type                 Date  Favorite              Title  \\\n",
       "2  Treadmill Running  2025-05-06 17:12:46     False  Treadmill Running   \n",
       "4  Treadmill Running  2025-05-05 16:18:02     False  Treadmill Running   \n",
       "\n",
       "  Distance Calories      Time  Avg HR  Max HR  Aerobic TE  ... Avg Resp  \\\n",
       "2     3.20      262  00:30:01     151     177         3.5  ...       --   \n",
       "4     6.97      584  01:13:11     150     182         4.1  ...       --   \n",
       "\n",
       "  Min Resp Max Resp Stress Change Stress Start Stress End Avg Stress  \\\n",
       "2       --       --            --           --         --         --   \n",
       "4       --       --            --           --         --         --   \n",
       "\n",
       "  Max Stress Moving Time  Elapsed Time  \n",
       "2         --    00:26:18      00:30:01  \n",
       "4         --    00:58:19      01:16:08  \n",
       "\n",
       "[2 rows x 40 columns]"
      ]
     },
     "execution_count": 14,
     "metadata": {},
     "output_type": "execute_result"
    }
   ],
   "source": [
    "import pandas as pd\n",
    "\n",
    "\n",
    "df = pd.read_csv ('Activities.csv')\n",
    "\n",
    "df.loc[df['Distance'] >\"2.00\"]\n"
   ]
  }
 ],
 "metadata": {
  "kernelspec": {
   "display_name": "Python 3",
   "language": "python",
   "name": "python3"
  },
  "language_info": {
   "codemirror_mode": {
    "name": "ipython",
    "version": 3
   },
   "file_extension": ".py",
   "mimetype": "text/x-python",
   "name": "python",
   "nbconvert_exporter": "python",
   "pygments_lexer": "ipython3",
   "version": "3.13.2"
  }
 },
 "nbformat": 4,
 "nbformat_minor": 5
}
