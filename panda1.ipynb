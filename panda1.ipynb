{
 "cells": [
  {
   "cell_type": "code",
   "execution_count": null,
   "id": "b9a98ecc",
   "metadata": {},
   "outputs": [],
   "source": [
    "import pandas as pd\n",
    "\n",
    "df = pd.read_csv('pokemon_data.txt', delimiter='\\t')\n",
    "\n",
    "print(df.head(5))\n"
   ]
  },
  {
   "cell_type": "markdown",
   "id": "b705dc5c",
   "metadata": {},
   "source": [
    "### o panda no caso de arquivo txt percisa saber como delimitar as colunas para não entregar dessa forma. \n",
    "\n",
    "Então usamos: df = pd.read_csv('pokemon_data.txt', delimiter='\\t')"
   ]
  },
  {
   "cell_type": "code",
   "execution_count": 6,
   "id": "392062c9",
   "metadata": {},
   "outputs": [
    {
     "name": "stdout",
     "output_type": "stream",
     "text": [
      "Index(['#', 'Name', 'Type 1', 'Type 2', 'HP', 'Attack', 'Defense', 'Sp. Atk',\n",
      "       'Sp. Def', 'Speed', 'Generation', 'Legendary'],\n",
      "      dtype='object')\n"
     ]
    }
   ],
   "source": [
    "# Reading Data in Pandas\n",
    "\n",
    "print(df.columns)\n",
    "\n",
    "\n",
    "## Read Headers\n",
    "\n",
    "\n",
    "## Read each column \n",
    "\n",
    "\n",
    "## Read each Row\n",
    "\n",
    "\n",
    "## Read a especific location (R,C)"
   ]
  },
  {
   "cell_type": "markdown",
   "id": "fc21053f",
   "metadata": {},
   "source": []
  }
 ],
 "metadata": {
  "kernelspec": {
   "display_name": "Python 3",
   "language": "python",
   "name": "python3"
  },
  "language_info": {
   "codemirror_mode": {
    "name": "ipython",
    "version": 3
   },
   "file_extension": ".py",
   "mimetype": "text/x-python",
   "name": "python",
   "nbconvert_exporter": "python",
   "pygments_lexer": "ipython3",
   "version": "3.13.2"
  }
 },
 "nbformat": 4,
 "nbformat_minor": 5
}
